{
 "cells": [
  {
   "cell_type": "code",
   "execution_count": 1,
   "metadata": {},
   "outputs": [],
   "source": [
    "import numpy as np\n",
    "import pandas as pd\n",
    "from sklearn import preprocessing\n",
    "import tensorflow as tf\n",
    "from tensorflow.keras.models import load_model\n"
   ]
  },
  {
   "cell_type": "code",
   "execution_count": 2,
   "metadata": {},
   "outputs": [
    {
     "data": {
      "text/html": [
       "<div>\n",
       "<style scoped>\n",
       "    .dataframe tbody tr th:only-of-type {\n",
       "        vertical-align: middle;\n",
       "    }\n",
       "\n",
       "    .dataframe tbody tr th {\n",
       "        vertical-align: top;\n",
       "    }\n",
       "\n",
       "    .dataframe thead th {\n",
       "        text-align: right;\n",
       "    }\n",
       "</style>\n",
       "<table border=\"1\" class=\"dataframe\">\n",
       "  <thead>\n",
       "    <tr style=\"text-align: right;\">\n",
       "      <th></th>\n",
       "      <th>Product_id</th>\n",
       "      <th>Stall_no</th>\n",
       "      <th>instock_date</th>\n",
       "      <th>Market_Category</th>\n",
       "      <th>Customer_name</th>\n",
       "      <th>Loyalty_customer</th>\n",
       "      <th>Product_Category</th>\n",
       "      <th>Grade</th>\n",
       "      <th>Demand</th>\n",
       "      <th>Discount_avail</th>\n",
       "      <th>charges_1</th>\n",
       "      <th>charges_2 (%)</th>\n",
       "      <th>Minimum_price</th>\n",
       "      <th>Maximum_price</th>\n",
       "    </tr>\n",
       "  </thead>\n",
       "  <tbody>\n",
       "    <tr>\n",
       "      <th>0</th>\n",
       "      <td>SCHE4YSTDVPVZVXW</td>\n",
       "      <td>39.0</td>\n",
       "      <td>2016-01-13 07:45:08.000</td>\n",
       "      <td>205</td>\n",
       "      <td>Ivanka</td>\n",
       "      <td>No</td>\n",
       "      <td>Fashion</td>\n",
       "      <td>0</td>\n",
       "      <td>90</td>\n",
       "      <td>0</td>\n",
       "      <td>380.0</td>\n",
       "      <td>16.0</td>\n",
       "      <td>2576.0</td>\n",
       "      <td>3340</td>\n",
       "    </tr>\n",
       "    <tr>\n",
       "      <th>1</th>\n",
       "      <td>ACCEGCATKHNRXUHW</td>\n",
       "      <td>49.0</td>\n",
       "      <td>2015-08-23 20:37:05.000</td>\n",
       "      <td>3</td>\n",
       "      <td>Isaak</td>\n",
       "      <td>Yes</td>\n",
       "      <td>Fashion</td>\n",
       "      <td>0</td>\n",
       "      <td>87</td>\n",
       "      <td>0</td>\n",
       "      <td>393.0</td>\n",
       "      <td>16.0</td>\n",
       "      <td>1202.0</td>\n",
       "      <td>1955</td>\n",
       "    </tr>\n",
       "    <tr>\n",
       "      <th>2</th>\n",
       "      <td>NKCE6GJ5XVJDXNNZ</td>\n",
       "      <td>1.0</td>\n",
       "      <td>2015-11-14 18:12:39.000</td>\n",
       "      <td>183</td>\n",
       "      <td>Analiese</td>\n",
       "      <td>No</td>\n",
       "      <td>Technology</td>\n",
       "      <td>2</td>\n",
       "      <td>55</td>\n",
       "      <td>0</td>\n",
       "      <td>493.0</td>\n",
       "      <td>9.0</td>\n",
       "      <td>7175.0</td>\n",
       "      <td>15715</td>\n",
       "    </tr>\n",
       "    <tr>\n",
       "      <th>3</th>\n",
       "      <td>NKCEB8BK3ZXDHDHM</td>\n",
       "      <td>8.0</td>\n",
       "      <td>2015-11-21 04:56:19.000</td>\n",
       "      <td>358</td>\n",
       "      <td>Rusty</td>\n",
       "      <td>Yes</td>\n",
       "      <td>Child_care</td>\n",
       "      <td>3</td>\n",
       "      <td>86</td>\n",
       "      <td>0</td>\n",
       "      <td>303.0</td>\n",
       "      <td>16.0</td>\n",
       "      <td>5404.0</td>\n",
       "      <td>13078</td>\n",
       "    </tr>\n",
       "    <tr>\n",
       "      <th>4</th>\n",
       "      <td>TOPEFDXSAHRNPF94</td>\n",
       "      <td>33.0</td>\n",
       "      <td>2015-05-06 15:09:46.000</td>\n",
       "      <td>167</td>\n",
       "      <td>Eloise</td>\n",
       "      <td>No</td>\n",
       "      <td>Technology</td>\n",
       "      <td>0</td>\n",
       "      <td>27</td>\n",
       "      <td>0</td>\n",
       "      <td>567.0</td>\n",
       "      <td>16.0</td>\n",
       "      <td>4069.0</td>\n",
       "      <td>6244</td>\n",
       "    </tr>\n",
       "  </tbody>\n",
       "</table>\n",
       "</div>"
      ],
      "text/plain": [
       "         Product_id  Stall_no             instock_date  Market_Category  \\\n",
       "0  SCHE4YSTDVPVZVXW      39.0  2016-01-13 07:45:08.000              205   \n",
       "1  ACCEGCATKHNRXUHW      49.0  2015-08-23 20:37:05.000                3   \n",
       "2  NKCE6GJ5XVJDXNNZ       1.0  2015-11-14 18:12:39.000              183   \n",
       "3  NKCEB8BK3ZXDHDHM       8.0  2015-11-21 04:56:19.000              358   \n",
       "4  TOPEFDXSAHRNPF94      33.0  2015-05-06 15:09:46.000              167   \n",
       "\n",
       "  Customer_name Loyalty_customer Product_Category  Grade  Demand  \\\n",
       "0        Ivanka              No           Fashion      0      90   \n",
       "1         Isaak              Yes          Fashion      0      87   \n",
       "2      Analiese              No        Technology      2      55   \n",
       "3         Rusty              Yes       Child_care      3      86   \n",
       "4        Eloise              No        Technology      0      27   \n",
       "\n",
       "   Discount_avail  charges_1  charges_2 (%)  Minimum_price  Maximum_price  \n",
       "0               0      380.0           16.0         2576.0           3340  \n",
       "1               0      393.0           16.0         1202.0           1955  \n",
       "2               0      493.0            9.0         7175.0          15715  \n",
       "3               0      303.0           16.0         5404.0          13078  \n",
       "4               0      567.0           16.0         4069.0           6244  "
      ]
     },
     "execution_count": 2,
     "metadata": {},
     "output_type": "execute_result"
    }
   ],
   "source": [
    "test = pd.read_csv(\"./dataset/test.csv\")\n",
    "test.head()"
   ]
  },
  {
   "cell_type": "code",
   "execution_count": 3,
   "metadata": {},
   "outputs": [
    {
     "data": {
      "text/plain": [
       "Product_id           0\n",
       "Stall_no             1\n",
       "instock_date         0\n",
       "Market_Category      0\n",
       "Customer_name       53\n",
       "Loyalty_customer     0\n",
       "Product_Category     0\n",
       "Grade                0\n",
       "Demand               0\n",
       "Discount_avail       0\n",
       "charges_1           36\n",
       "charges_2 (%)        5\n",
       "Minimum_price       14\n",
       "Maximum_price        0\n",
       "dtype: int64"
      ]
     },
     "execution_count": 3,
     "metadata": {},
     "output_type": "execute_result"
    }
   ],
   "source": [
    "data = test.copy()\n",
    "data.isna().sum()"
   ]
  },
  {
   "cell_type": "code",
   "execution_count": 4,
   "metadata": {},
   "outputs": [
    {
     "data": {
      "text/plain": [
       "2788.0863583138175"
      ]
     },
     "execution_count": 4,
     "metadata": {},
     "output_type": "execute_result"
    }
   ],
   "source": [
    "range_val = data[\"Maximum_price\"]-data[\"Minimum_price\"]\n",
    "range_val_mean = range_val.mean()\n",
    "range_val_mean"
   ]
  },
  {
   "cell_type": "code",
   "execution_count": 6,
   "metadata": {},
   "outputs": [],
   "source": [
    "minimum_mean_price = []\n",
    "for i,j in zip(data[\"Minimum_price\"],data[\"Maximum_price\"]):\n",
    "    if i > 0:\n",
    "        minimum_mean_price.append(i)\n",
    "    else:\n",
    "        minimum_mean_price.append(j-range_val_mean)"
   ]
  },
  {
   "cell_type": "code",
   "execution_count": 7,
   "metadata": {},
   "outputs": [
    {
     "data": {
      "text/html": [
       "<div>\n",
       "<style scoped>\n",
       "    .dataframe tbody tr th:only-of-type {\n",
       "        vertical-align: middle;\n",
       "    }\n",
       "\n",
       "    .dataframe tbody tr th {\n",
       "        vertical-align: top;\n",
       "    }\n",
       "\n",
       "    .dataframe thead th {\n",
       "        text-align: right;\n",
       "    }\n",
       "</style>\n",
       "<table border=\"1\" class=\"dataframe\">\n",
       "  <thead>\n",
       "    <tr style=\"text-align: right;\">\n",
       "      <th></th>\n",
       "      <th>0</th>\n",
       "      <th>1</th>\n",
       "    </tr>\n",
       "  </thead>\n",
       "  <tbody>\n",
       "    <tr>\n",
       "      <th>0</th>\n",
       "      <td>2576.0</td>\n",
       "      <td>3340</td>\n",
       "    </tr>\n",
       "    <tr>\n",
       "      <th>1</th>\n",
       "      <td>1202.0</td>\n",
       "      <td>1955</td>\n",
       "    </tr>\n",
       "    <tr>\n",
       "      <th>2</th>\n",
       "      <td>7175.0</td>\n",
       "      <td>15715</td>\n",
       "    </tr>\n",
       "    <tr>\n",
       "      <th>3</th>\n",
       "      <td>5404.0</td>\n",
       "      <td>13078</td>\n",
       "    </tr>\n",
       "    <tr>\n",
       "      <th>4</th>\n",
       "      <td>4069.0</td>\n",
       "      <td>6244</td>\n",
       "    </tr>\n",
       "  </tbody>\n",
       "</table>\n",
       "</div>"
      ],
      "text/plain": [
       "        0      1\n",
       "0  2576.0   3340\n",
       "1  1202.0   1955\n",
       "2  7175.0  15715\n",
       "3  5404.0  13078\n",
       "4  4069.0   6244"
      ]
     },
     "execution_count": 7,
     "metadata": {},
     "output_type": "execute_result"
    }
   ],
   "source": [
    "minimum_mean_price = pd.DataFrame(minimum_mean_price)\n",
    "minimum_mean_price[1] = data.pop(\"Maximum_price\")\n",
    "minimum_mean_price.head()"
   ]
  },
  {
   "cell_type": "code",
   "execution_count": 9,
   "metadata": {},
   "outputs": [],
   "source": [
    "_ = data.pop(\"Minimum_price\")"
   ]
  },
  {
   "cell_type": "code",
   "execution_count": 10,
   "metadata": {},
   "outputs": [
    {
     "data": {
      "text/plain": [
       "Product_id           0\n",
       "Stall_no             0\n",
       "instock_date         0\n",
       "Market_Category      0\n",
       "Customer_name       53\n",
       "Loyalty_customer     0\n",
       "Product_Category     0\n",
       "Grade                0\n",
       "Demand               0\n",
       "Discount_avail       0\n",
       "charges_1            0\n",
       "charges_2 (%)        0\n",
       "dtype: int64"
      ]
     },
     "execution_count": 10,
     "metadata": {},
     "output_type": "execute_result"
    }
   ],
   "source": [
    "data = data.fillna(data.mean())\n",
    "data.isna().sum()"
   ]
  },
  {
   "cell_type": "code",
   "execution_count": 11,
   "metadata": {},
   "outputs": [
    {
     "data": {
      "text/plain": [
       "Product_id          0\n",
       "Stall_no            0\n",
       "instock_date        0\n",
       "Market_Category     0\n",
       "Loyalty_customer    0\n",
       "Product_Category    0\n",
       "Grade               0\n",
       "Demand              0\n",
       "Discount_avail      0\n",
       "charges_1           0\n",
       "charges_2 (%)       0\n",
       "dtype: int64"
      ]
     },
     "execution_count": 11,
     "metadata": {},
     "output_type": "execute_result"
    }
   ],
   "source": [
    "# data = data.replace(np.nan,\" \")\n",
    "_ = data.pop(\"Customer_name\")\n",
    "data.isna().sum()"
   ]
  },
  {
   "cell_type": "code",
   "execution_count": 12,
   "metadata": {},
   "outputs": [],
   "source": [
    "product_id = data.pop(\"Product_id\")"
   ]
  },
  {
   "cell_type": "code",
   "execution_count": 13,
   "metadata": {},
   "outputs": [
    {
     "data": {
      "text/html": [
       "<div>\n",
       "<style scoped>\n",
       "    .dataframe tbody tr th:only-of-type {\n",
       "        vertical-align: middle;\n",
       "    }\n",
       "\n",
       "    .dataframe tbody tr th {\n",
       "        vertical-align: top;\n",
       "    }\n",
       "\n",
       "    .dataframe thead th {\n",
       "        text-align: right;\n",
       "    }\n",
       "</style>\n",
       "<table border=\"1\" class=\"dataframe\">\n",
       "  <thead>\n",
       "    <tr style=\"text-align: right;\">\n",
       "      <th></th>\n",
       "      <th>Stall_no</th>\n",
       "      <th>instock_date</th>\n",
       "      <th>Market_Category</th>\n",
       "      <th>Loyalty_customer</th>\n",
       "      <th>Product_Category</th>\n",
       "      <th>Grade</th>\n",
       "      <th>Demand</th>\n",
       "      <th>Discount_avail</th>\n",
       "      <th>charges_1</th>\n",
       "      <th>charges_2 (%)</th>\n",
       "      <th>mean</th>\n",
       "    </tr>\n",
       "  </thead>\n",
       "  <tbody>\n",
       "    <tr>\n",
       "      <th>0</th>\n",
       "      <td>39.0</td>\n",
       "      <td>2016-01-13 07:45:08.000</td>\n",
       "      <td>205</td>\n",
       "      <td>No</td>\n",
       "      <td>Fashion</td>\n",
       "      <td>0</td>\n",
       "      <td>90</td>\n",
       "      <td>0</td>\n",
       "      <td>380.0</td>\n",
       "      <td>16.0</td>\n",
       "      <td>2958.0</td>\n",
       "    </tr>\n",
       "    <tr>\n",
       "      <th>1</th>\n",
       "      <td>49.0</td>\n",
       "      <td>2015-08-23 20:37:05.000</td>\n",
       "      <td>3</td>\n",
       "      <td>Yes</td>\n",
       "      <td>Fashion</td>\n",
       "      <td>0</td>\n",
       "      <td>87</td>\n",
       "      <td>0</td>\n",
       "      <td>393.0</td>\n",
       "      <td>16.0</td>\n",
       "      <td>1578.5</td>\n",
       "    </tr>\n",
       "    <tr>\n",
       "      <th>2</th>\n",
       "      <td>1.0</td>\n",
       "      <td>2015-11-14 18:12:39.000</td>\n",
       "      <td>183</td>\n",
       "      <td>No</td>\n",
       "      <td>Technology</td>\n",
       "      <td>2</td>\n",
       "      <td>55</td>\n",
       "      <td>0</td>\n",
       "      <td>493.0</td>\n",
       "      <td>9.0</td>\n",
       "      <td>11445.0</td>\n",
       "    </tr>\n",
       "    <tr>\n",
       "      <th>3</th>\n",
       "      <td>8.0</td>\n",
       "      <td>2015-11-21 04:56:19.000</td>\n",
       "      <td>358</td>\n",
       "      <td>Yes</td>\n",
       "      <td>Child_care</td>\n",
       "      <td>3</td>\n",
       "      <td>86</td>\n",
       "      <td>0</td>\n",
       "      <td>303.0</td>\n",
       "      <td>16.0</td>\n",
       "      <td>9241.0</td>\n",
       "    </tr>\n",
       "    <tr>\n",
       "      <th>4</th>\n",
       "      <td>33.0</td>\n",
       "      <td>2015-05-06 15:09:46.000</td>\n",
       "      <td>167</td>\n",
       "      <td>No</td>\n",
       "      <td>Technology</td>\n",
       "      <td>0</td>\n",
       "      <td>27</td>\n",
       "      <td>0</td>\n",
       "      <td>567.0</td>\n",
       "      <td>16.0</td>\n",
       "      <td>5156.5</td>\n",
       "    </tr>\n",
       "  </tbody>\n",
       "</table>\n",
       "</div>"
      ],
      "text/plain": [
       "   Stall_no             instock_date  Market_Category Loyalty_customer  \\\n",
       "0      39.0  2016-01-13 07:45:08.000              205              No    \n",
       "1      49.0  2015-08-23 20:37:05.000                3              Yes   \n",
       "2       1.0  2015-11-14 18:12:39.000              183              No    \n",
       "3       8.0  2015-11-21 04:56:19.000              358              Yes   \n",
       "4      33.0  2015-05-06 15:09:46.000              167              No    \n",
       "\n",
       "  Product_Category  Grade  Demand  Discount_avail  charges_1  charges_2 (%)  \\\n",
       "0          Fashion      0      90               0      380.0           16.0   \n",
       "1          Fashion      0      87               0      393.0           16.0   \n",
       "2       Technology      2      55               0      493.0            9.0   \n",
       "3       Child_care      3      86               0      303.0           16.0   \n",
       "4       Technology      0      27               0      567.0           16.0   \n",
       "\n",
       "      mean  \n",
       "0   2958.0  \n",
       "1   1578.5  \n",
       "2  11445.0  \n",
       "3   9241.0  \n",
       "4   5156.5  "
      ]
     },
     "execution_count": 13,
     "metadata": {},
     "output_type": "execute_result"
    }
   ],
   "source": [
    "data[\"mean\"] = (minimum_mean_price[0]+minimum_mean_price[1])/2\n",
    "data.head()"
   ]
  },
  {
   "cell_type": "code",
   "execution_count": 14,
   "metadata": {},
   "outputs": [],
   "source": [
    "product_cat = data.pop(\"Product_Category\")"
   ]
  },
  {
   "cell_type": "code",
   "execution_count": 15,
   "metadata": {},
   "outputs": [],
   "source": [
    "Grade = data.pop(\"Grade\")"
   ]
  },
  {
   "cell_type": "code",
   "execution_count": 16,
   "metadata": {},
   "outputs": [],
   "source": [
    "encoder = preprocessing.OrdinalEncoder()\n"
   ]
  },
  {
   "cell_type": "code",
   "execution_count": 17,
   "metadata": {},
   "outputs": [
    {
     "data": {
      "text/plain": [
       "array([[3.],\n",
       "       [3.],\n",
       "       [9.],\n",
       "       ...,\n",
       "       [2.],\n",
       "       [0.],\n",
       "       [8.]])"
      ]
     },
     "execution_count": 17,
     "metadata": {},
     "output_type": "execute_result"
    }
   ],
   "source": [
    "product_cat = encoder.fit_transform(np.expand_dims(product_cat,1))\n",
    "product_cat"
   ]
  },
  {
   "cell_type": "code",
   "execution_count": 18,
   "metadata": {},
   "outputs": [],
   "source": [
    "data = encoder.fit_transform(data)"
   ]
  },
  {
   "cell_type": "code",
   "execution_count": 19,
   "metadata": {},
   "outputs": [],
   "source": [
    "Grade = encoder.fit_transform(np.expand_dims(Grade,1))"
   ]
  },
  {
   "cell_type": "code",
   "execution_count": 20,
   "metadata": {},
   "outputs": [
    {
     "data": {
      "text/plain": [
       "(3430, 9)"
      ]
     },
     "execution_count": 20,
     "metadata": {},
     "output_type": "execute_result"
    }
   ],
   "source": [
    "data.shape"
   ]
  },
  {
   "cell_type": "code",
   "execution_count": 21,
   "metadata": {},
   "outputs": [],
   "source": [
    "onehot = preprocessing.OneHotEncoder(sparse=False)"
   ]
  },
  {
   "cell_type": "code",
   "execution_count": 22,
   "metadata": {},
   "outputs": [
    {
     "name": "stderr",
     "output_type": "stream",
     "text": [
      "C:\\ProgramData\\Anaconda3\\lib\\site-packages\\sklearn\\preprocessing\\_encoders.py:368: FutureWarning: The handling of integer data will change in version 0.22. Currently, the categories are determined based on the range [0, max(values)], while in the future they will be determined based on the unique values.\n",
      "If you want the future behaviour and silence this warning, you can specify \"categories='auto'\".\n",
      "In case you used a LabelEncoder before this OneHotEncoder to convert the categories to integers, then you can now use the OneHotEncoder directly.\n",
      "  warnings.warn(msg, FutureWarning)\n"
     ]
    },
    {
     "data": {
      "text/plain": [
       "(3430, 10)"
      ]
     },
     "execution_count": 22,
     "metadata": {},
     "output_type": "execute_result"
    }
   ],
   "source": [
    "product_cat = onehot.fit_transform(product_cat)\n",
    "product_cat.shape"
   ]
  },
  {
   "cell_type": "code",
   "execution_count": 24,
   "metadata": {},
   "outputs": [
    {
     "name": "stderr",
     "output_type": "stream",
     "text": [
      "C:\\ProgramData\\Anaconda3\\lib\\site-packages\\sklearn\\preprocessing\\_encoders.py:368: FutureWarning: The handling of integer data will change in version 0.22. Currently, the categories are determined based on the range [0, max(values)], while in the future they will be determined based on the unique values.\n",
      "If you want the future behaviour and silence this warning, you can specify \"categories='auto'\".\n",
      "In case you used a LabelEncoder before this OneHotEncoder to convert the categories to integers, then you can now use the OneHotEncoder directly.\n",
      "  warnings.warn(msg, FutureWarning)\n"
     ]
    },
    {
     "data": {
      "text/plain": [
       "(3430, 4)"
      ]
     },
     "execution_count": 24,
     "metadata": {},
     "output_type": "execute_result"
    }
   ],
   "source": [
    "Grade = onehot.fit_transform(Grade)\n",
    "Grade.shape"
   ]
  },
  {
   "cell_type": "code",
   "execution_count": 321,
   "metadata": {},
   "outputs": [],
   "source": [
    "# data = preprocessing.normalize(data)\n",
    "# data"
   ]
  },
  {
   "cell_type": "code",
   "execution_count": 25,
   "metadata": {},
   "outputs": [
    {
     "data": {
      "text/plain": [
       "array([[0.78      , 0.71534733, 0.6367713 , ..., 0.61777778, 0.94117647,\n",
       "        0.24919303],\n",
       "       [0.98      , 0.30726979, 0.01345291, ..., 0.64666667, 0.94117647,\n",
       "        0.06552615],\n",
       "       [0.        , 0.55476575, 0.56502242, ..., 0.73111111, 0.47058824,\n",
       "        0.97127179],\n",
       "       ...,\n",
       "       [0.26      , 0.91017771, 0.3632287 , ..., 0.11111111, 1.        ,\n",
       "        0.69657844],\n",
       "       [0.        , 0.13537964, 0.35426009, ..., 0.5       , 0.88235294,\n",
       "        0.31052292],\n",
       "       [0.04      , 0.1812601 , 0.52914798, ..., 0.28444444, 0.47058824,\n",
       "        0.76371853]])"
      ]
     },
     "execution_count": 25,
     "metadata": {},
     "output_type": "execute_result"
    }
   ],
   "source": [
    "data = preprocessing.minmax_scale(data)\n",
    "data"
   ]
  },
  {
   "cell_type": "code",
   "execution_count": 26,
   "metadata": {},
   "outputs": [
    {
     "data": {
      "text/html": [
       "<div>\n",
       "<style scoped>\n",
       "    .dataframe tbody tr th:only-of-type {\n",
       "        vertical-align: middle;\n",
       "    }\n",
       "\n",
       "    .dataframe tbody tr th {\n",
       "        vertical-align: top;\n",
       "    }\n",
       "\n",
       "    .dataframe thead th {\n",
       "        text-align: right;\n",
       "    }\n",
       "</style>\n",
       "<table border=\"1\" class=\"dataframe\">\n",
       "  <thead>\n",
       "    <tr style=\"text-align: right;\">\n",
       "      <th></th>\n",
       "      <th>0</th>\n",
       "      <th>1</th>\n",
       "      <th>2</th>\n",
       "      <th>3</th>\n",
       "      <th>4</th>\n",
       "      <th>5</th>\n",
       "      <th>6</th>\n",
       "      <th>7</th>\n",
       "      <th>8</th>\n",
       "      <th>0</th>\n",
       "      <th>...</th>\n",
       "      <th>4</th>\n",
       "      <th>5</th>\n",
       "      <th>6</th>\n",
       "      <th>7</th>\n",
       "      <th>8</th>\n",
       "      <th>9</th>\n",
       "      <th>0</th>\n",
       "      <th>1</th>\n",
       "      <th>2</th>\n",
       "      <th>3</th>\n",
       "    </tr>\n",
       "  </thead>\n",
       "  <tbody>\n",
       "    <tr>\n",
       "      <th>0</th>\n",
       "      <td>0.78</td>\n",
       "      <td>0.715347</td>\n",
       "      <td>0.636771</td>\n",
       "      <td>0.0</td>\n",
       "      <td>0.898990</td>\n",
       "      <td>0.0</td>\n",
       "      <td>0.617778</td>\n",
       "      <td>0.941176</td>\n",
       "      <td>0.249193</td>\n",
       "      <td>0.0</td>\n",
       "      <td>...</td>\n",
       "      <td>0.0</td>\n",
       "      <td>0.0</td>\n",
       "      <td>0.0</td>\n",
       "      <td>0.0</td>\n",
       "      <td>0.0</td>\n",
       "      <td>0.0</td>\n",
       "      <td>1.0</td>\n",
       "      <td>0.0</td>\n",
       "      <td>0.0</td>\n",
       "      <td>0.0</td>\n",
       "    </tr>\n",
       "    <tr>\n",
       "      <th>1</th>\n",
       "      <td>0.98</td>\n",
       "      <td>0.307270</td>\n",
       "      <td>0.013453</td>\n",
       "      <td>1.0</td>\n",
       "      <td>0.868687</td>\n",
       "      <td>0.0</td>\n",
       "      <td>0.646667</td>\n",
       "      <td>0.941176</td>\n",
       "      <td>0.065526</td>\n",
       "      <td>0.0</td>\n",
       "      <td>...</td>\n",
       "      <td>0.0</td>\n",
       "      <td>0.0</td>\n",
       "      <td>0.0</td>\n",
       "      <td>0.0</td>\n",
       "      <td>0.0</td>\n",
       "      <td>0.0</td>\n",
       "      <td>1.0</td>\n",
       "      <td>0.0</td>\n",
       "      <td>0.0</td>\n",
       "      <td>0.0</td>\n",
       "    </tr>\n",
       "    <tr>\n",
       "      <th>2</th>\n",
       "      <td>0.00</td>\n",
       "      <td>0.554766</td>\n",
       "      <td>0.565022</td>\n",
       "      <td>0.0</td>\n",
       "      <td>0.545455</td>\n",
       "      <td>0.0</td>\n",
       "      <td>0.731111</td>\n",
       "      <td>0.470588</td>\n",
       "      <td>0.971272</td>\n",
       "      <td>0.0</td>\n",
       "      <td>...</td>\n",
       "      <td>0.0</td>\n",
       "      <td>0.0</td>\n",
       "      <td>0.0</td>\n",
       "      <td>0.0</td>\n",
       "      <td>0.0</td>\n",
       "      <td>1.0</td>\n",
       "      <td>0.0</td>\n",
       "      <td>0.0</td>\n",
       "      <td>1.0</td>\n",
       "      <td>0.0</td>\n",
       "    </tr>\n",
       "    <tr>\n",
       "      <th>3</th>\n",
       "      <td>0.14</td>\n",
       "      <td>0.621325</td>\n",
       "      <td>0.816143</td>\n",
       "      <td>1.0</td>\n",
       "      <td>0.858586</td>\n",
       "      <td>0.0</td>\n",
       "      <td>0.453333</td>\n",
       "      <td>0.941176</td>\n",
       "      <td>0.924467</td>\n",
       "      <td>1.0</td>\n",
       "      <td>...</td>\n",
       "      <td>0.0</td>\n",
       "      <td>0.0</td>\n",
       "      <td>0.0</td>\n",
       "      <td>0.0</td>\n",
       "      <td>0.0</td>\n",
       "      <td>0.0</td>\n",
       "      <td>0.0</td>\n",
       "      <td>0.0</td>\n",
       "      <td>0.0</td>\n",
       "      <td>1.0</td>\n",
       "    </tr>\n",
       "    <tr>\n",
       "      <th>4</th>\n",
       "      <td>0.66</td>\n",
       "      <td>0.053958</td>\n",
       "      <td>0.538117</td>\n",
       "      <td>0.0</td>\n",
       "      <td>0.262626</td>\n",
       "      <td>0.0</td>\n",
       "      <td>0.855556</td>\n",
       "      <td>0.941176</td>\n",
       "      <td>0.612008</td>\n",
       "      <td>0.0</td>\n",
       "      <td>...</td>\n",
       "      <td>0.0</td>\n",
       "      <td>0.0</td>\n",
       "      <td>0.0</td>\n",
       "      <td>0.0</td>\n",
       "      <td>0.0</td>\n",
       "      <td>1.0</td>\n",
       "      <td>1.0</td>\n",
       "      <td>0.0</td>\n",
       "      <td>0.0</td>\n",
       "      <td>0.0</td>\n",
       "    </tr>\n",
       "  </tbody>\n",
       "</table>\n",
       "<p>5 rows × 23 columns</p>\n",
       "</div>"
      ],
      "text/plain": [
       "      0         1         2    3         4    5         6         7         8  \\\n",
       "0  0.78  0.715347  0.636771  0.0  0.898990  0.0  0.617778  0.941176  0.249193   \n",
       "1  0.98  0.307270  0.013453  1.0  0.868687  0.0  0.646667  0.941176  0.065526   \n",
       "2  0.00  0.554766  0.565022  0.0  0.545455  0.0  0.731111  0.470588  0.971272   \n",
       "3  0.14  0.621325  0.816143  1.0  0.858586  0.0  0.453333  0.941176  0.924467   \n",
       "4  0.66  0.053958  0.538117  0.0  0.262626  0.0  0.855556  0.941176  0.612008   \n",
       "\n",
       "     0 ...     4    5    6    7    8    9    0    1    2    3  \n",
       "0  0.0 ...   0.0  0.0  0.0  0.0  0.0  0.0  1.0  0.0  0.0  0.0  \n",
       "1  0.0 ...   0.0  0.0  0.0  0.0  0.0  0.0  1.0  0.0  0.0  0.0  \n",
       "2  0.0 ...   0.0  0.0  0.0  0.0  0.0  1.0  0.0  0.0  1.0  0.0  \n",
       "3  1.0 ...   0.0  0.0  0.0  0.0  0.0  0.0  0.0  0.0  0.0  1.0  \n",
       "4  0.0 ...   0.0  0.0  0.0  0.0  0.0  1.0  1.0  0.0  0.0  0.0  \n",
       "\n",
       "[5 rows x 23 columns]"
      ]
     },
     "execution_count": 26,
     "metadata": {},
     "output_type": "execute_result"
    }
   ],
   "source": [
    "final = pd.concat([pd.DataFrame(data),pd.DataFrame(product_cat),pd.DataFrame(Grade)],axis=1)\n",
    "final.head()"
   ]
  },
  {
   "cell_type": "code",
   "execution_count": 27,
   "metadata": {},
   "outputs": [
    {
     "data": {
      "text/plain": [
       "(3430, 23)"
      ]
     },
     "execution_count": 27,
     "metadata": {},
     "output_type": "execute_result"
    }
   ],
   "source": [
    "final = np.array(final)\n",
    "final.shape"
   ]
  },
  {
   "cell_type": "code",
   "execution_count": 191,
   "metadata": {},
   "outputs": [],
   "source": [
    "model = load_model(\"Best_model_2759\")"
   ]
  },
  {
   "cell_type": "code",
   "execution_count": 192,
   "metadata": {},
   "outputs": [],
   "source": [
    "result = model.predict(final)"
   ]
  },
  {
   "cell_type": "code",
   "execution_count": 193,
   "metadata": {},
   "outputs": [
    {
     "data": {
      "text/plain": [
       "array([[ 3222.652 ],\n",
       "       [ 2162.6323],\n",
       "       [12025.029 ],\n",
       "       ...,\n",
       "       [ 5979.504 ],\n",
       "       [ 3536.1746],\n",
       "       [ 1115.9718]], dtype=float32)"
      ]
     },
     "execution_count": 193,
     "metadata": {},
     "output_type": "execute_result"
    }
   ],
   "source": [
    "result"
   ]
  },
  {
   "cell_type": "code",
   "execution_count": 194,
   "metadata": {},
   "outputs": [
    {
     "data": {
      "text/plain": [
       "2759"
      ]
     },
     "execution_count": 194,
     "metadata": {},
     "output_type": "execute_result"
    }
   ],
   "source": [
    "count = 0\n",
    "for i in range(len(result)):\n",
    "    if minimum_mean_price[0][i]<=result[i]<=minimum_mean_price[1][i]:\n",
    "        count+=1\n",
    "count"
   ]
  },
  {
   "cell_type": "code",
   "execution_count": 195,
   "metadata": {},
   "outputs": [],
   "source": [
    "submission = pd.DataFrame(product_id)"
   ]
  },
  {
   "cell_type": "code",
   "execution_count": 196,
   "metadata": {},
   "outputs": [
    {
     "data": {
      "text/html": [
       "<div>\n",
       "<style scoped>\n",
       "    .dataframe tbody tr th:only-of-type {\n",
       "        vertical-align: middle;\n",
       "    }\n",
       "\n",
       "    .dataframe tbody tr th {\n",
       "        vertical-align: top;\n",
       "    }\n",
       "\n",
       "    .dataframe thead th {\n",
       "        text-align: right;\n",
       "    }\n",
       "</style>\n",
       "<table border=\"1\" class=\"dataframe\">\n",
       "  <thead>\n",
       "    <tr style=\"text-align: right;\">\n",
       "      <th></th>\n",
       "      <th>Product_id</th>\n",
       "      <th>Selling_Price</th>\n",
       "    </tr>\n",
       "  </thead>\n",
       "  <tbody>\n",
       "    <tr>\n",
       "      <th>0</th>\n",
       "      <td>SCHE4YSTDVPVZVXW</td>\n",
       "      <td>3222.652100</td>\n",
       "    </tr>\n",
       "    <tr>\n",
       "      <th>1</th>\n",
       "      <td>ACCEGCATKHNRXUHW</td>\n",
       "      <td>2162.632324</td>\n",
       "    </tr>\n",
       "    <tr>\n",
       "      <th>2</th>\n",
       "      <td>NKCE6GJ5XVJDXNNZ</td>\n",
       "      <td>12025.029297</td>\n",
       "    </tr>\n",
       "    <tr>\n",
       "      <th>3</th>\n",
       "      <td>NKCEB8BK3ZXDHDHM</td>\n",
       "      <td>9855.031250</td>\n",
       "    </tr>\n",
       "    <tr>\n",
       "      <th>4</th>\n",
       "      <td>TOPEFDXSAHRNPF94</td>\n",
       "      <td>5677.274414</td>\n",
       "    </tr>\n",
       "  </tbody>\n",
       "</table>\n",
       "</div>"
      ],
      "text/plain": [
       "         Product_id  Selling_Price\n",
       "0  SCHE4YSTDVPVZVXW    3222.652100\n",
       "1  ACCEGCATKHNRXUHW    2162.632324\n",
       "2  NKCE6GJ5XVJDXNNZ   12025.029297\n",
       "3  NKCEB8BK3ZXDHDHM    9855.031250\n",
       "4  TOPEFDXSAHRNPF94    5677.274414"
      ]
     },
     "execution_count": 196,
     "metadata": {},
     "output_type": "execute_result"
    }
   ],
   "source": [
    "submission[\"Selling_Price\"] = result\n",
    "submission.head()"
   ]
  },
  {
   "cell_type": "code",
   "execution_count": 197,
   "metadata": {},
   "outputs": [],
   "source": [
    "submission.to_csv(\"submission.csv\",index=False)"
   ]
  },
  {
   "cell_type": "code",
   "execution_count": null,
   "metadata": {},
   "outputs": [],
   "source": []
  }
 ],
 "metadata": {
  "kernelspec": {
   "display_name": "Python 3",
   "language": "python",
   "name": "python3"
  },
  "language_info": {
   "codemirror_mode": {
    "name": "ipython",
    "version": 3
   },
   "file_extension": ".py",
   "mimetype": "text/x-python",
   "name": "python",
   "nbconvert_exporter": "python",
   "pygments_lexer": "ipython3",
   "version": "3.7.1"
  }
 },
 "nbformat": 4,
 "nbformat_minor": 2
}
